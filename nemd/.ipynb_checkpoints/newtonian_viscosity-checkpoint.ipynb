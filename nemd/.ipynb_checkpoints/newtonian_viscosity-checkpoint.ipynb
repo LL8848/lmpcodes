{
 "cells": [
  {
   "cell_type": "code",
   "execution_count": 1,
   "metadata": {},
   "outputs": [],
   "source": [
    "import os\n",
    "import statistics\n",
    "import matplotlib.pyplot as plt\n",
    "\n",
    "def get_mean_std(data,n_b):\n",
    "    \n",
    "    # n_b: number of chunks(or blocks) to divide\n",
    "    n_e = int(len(data)/n_b) \n",
    "#     print(\"n_e = {}\".format(n_e))\n",
    "    # list of chunks\n",
    "    final = [data[i * n_e:(i + 1) * n_e] for i in range((len(data) + n_e - 1) // n_e )]  \n",
    "     \n",
    "    # get a list of mean of each chunk\n",
    "    stat = [statistics.mean(chunk) for chunk in final]\n",
    "    \n",
    "    # calculate the mean and standard deviation of the chunks\n",
    "    return statistics.mean(stat), statistics.stdev(stat)\n",
    "\n",
    "\n",
    "\n",
    "rootdir = '/wrk/lnl5/vis_nemd/'\n",
    "subdir = 'opls0/373K'\n",
    "# dirlist = ['2e-6','3e-6','4e-6','5e-6','6e-6','7e-6','8e-6','9e-6','10e-6']\n",
    "dirlist = ['2e-7','3e-7','4e-7','5e-7','6e-7','7e-7','8e-7','9e-7','10e-7']\n",
    "# dirlist = ['2.0e-7','3.0e-7','4.0e-7','5.0e-7','6.0e-7','7.0e-7','8.0e-7','9.0e-7','10.0e-7']\n",
    "# dirlist = ['0.5e-7','0.6e-7','0.7e-7','0.8e-7','0.9e-7','1.0e-7','2.0e-7','3.0e-7','4.0e-7','5.0e-7','6.0e-7','7.0e-7','8.0e-7','9.0e-7','10.0e-7']\n",
    "t_a = 15 # average for last t_a (ns)\n",
    "timestep = 0.5e-6 # ns\n",
    "f_output = 10000 # output frequency, i.e., output every f_output timesteps\n",
    "l_a = int(t_a / timestep / f_output) # extrat the data of the last l_a lines\n",
    "\n",
    "mylist = []\n",
    "templist,sratelist,meanlist,stdevlist = [],[],[],[]\n",
    "for dirt in dirlist:\n",
    "    path = rootdir + subdir + '/' + dirt + '/'\n",
    "    for filename in os.listdir(path):\n",
    "        if 'srate' in filename:\n",
    "            temperature = float(filename[:filename.index('K')])\n",
    "            srate = float(filename[filename.index('=')+1:filename.rindex('.')])\n",
    "            with open(path + filename) as file:\n",
    "                mylines = file.readlines()[-l_a:]\n",
    "                viscosity_list = [float(s.split()[-1]) for s in mylines]\n",
    "                mean, stdev = get_mean_std(viscosity_list,5)\n",
    "            templist.append(temperature)\n",
    "            sratelist.append(srate*1e15)\n",
    "            meanlist.append(mean)\n",
    "            stdevlist.append(stdev)\n",
    "            mylist.append([temperature,srate*1e15,mean,stdev])\n",
    "mylist.sort()\n",
    "\n",
    "# plt.plot(sratelist,meanlist,'ro')\n",
    "# plt.show()\n",
    "\n",
    "# write to file\n",
    "fname = rootdir + subdir + \"/\" + str(temperature) + \"K_2.txt\"\n",
    "with open(fname,'w') as file:\n",
    "    file.write(\"Shear rate, Shear viscosity, stdev\\r\\n\") # write long names\n",
    "    file.write(\"s^-1, mPa s, mPa s\\r\\n\") # wrtie units\n",
    "    for lines in mylist:\n",
    "        file.write(\"{}\\r\\n\".format(str(lines[1:]).strip('[]')))"
   ]
  },
  {
   "cell_type": "code",
   "execution_count": 4,
   "metadata": {
    "collapsed": true
   },
   "outputs": [],
   "source": []
  },
  {
   "cell_type": "code",
   "execution_count": null,
   "metadata": {
    "collapsed": true
   },
   "outputs": [],
   "source": []
  }
 ],
 "metadata": {
  "kernelspec": {
   "display_name": "Python 3",
   "language": "python",
   "name": "python3"
  },
  "language_info": {
   "codemirror_mode": {
    "name": "ipython",
    "version": 3
   },
   "file_extension": ".py",
   "mimetype": "text/x-python",
   "name": "python",
   "nbconvert_exporter": "python",
   "pygments_lexer": "ipython3",
   "version": "3.7.3"
  }
 },
 "nbformat": 4,
 "nbformat_minor": 1
}
