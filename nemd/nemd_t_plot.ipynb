{
 "cells": [
  {
   "cell_type": "code",
   "execution_count": 1,
   "metadata": {},
   "outputs": [],
   "source": [
    "import os\n",
    "import matplotlib.pyplot as plt\n",
    "\n",
    "rootdir = '/wrk/lnl5/vis_nemd/'\n",
    "subdir = 'opls0/373K'\n",
    "# '0.5e-7','0.6e-7','0.7e-7','0.8e-7','0.9e-7','1.0e-7',\n",
    "# dirlist = ['2.0e-7','3.0e-7','4.0e-7','5.0e-7','6.0e-7','7.0e-7','8.0e-7','9.0e-7','10.0e-7']\n",
    "dirlist = ['2e-7','3e-7','4e-7','5e-7','6e-7','7e-7','8e-7','9e-7','10e-7']\n",
    "# dirlist = ['2e-6','3e-6','4e-6','5e-6','6e-6','7e-6','8e-6','9e-6','10e-6']\n",
    "# dirlist = ['2.0e-7_2','3.0e-7_2','4.0e-7_2','5.0e-7','6.0e-7','7.0e-7','8.0e-7','9.0e-7','1.0e-6']\n",
    "\n",
    "mylist = []\n",
    "timestep = 0.5e-6 # unit: ns\n",
    "fig, ax = plt.subplots()\n",
    "for dirt in dirlist:\n",
    "    path = rootdir + subdir + '/' + dirt + '/'\n",
    "    for filename in os.listdir(path):\n",
    "        if 'srate' in filename:\n",
    "            with open(path + filename) as file:\n",
    "                data = file.readlines()\n",
    "                ts = []\n",
    "                vis = []\n",
    "                for line in data[2:]:\n",
    "                    ts.append(float(line.split()[0])*timestep)\n",
    "                    vis.append(float(line.split()[1]))\n",
    "                labels = \"%.1E\" % (float(dirt)*1e15)\n",
    "                plt.plot(ts, vis, label = labels)\n",
    "\n",
    "#  Location String\tLocation Code              \n",
    "# 'best'\t0\n",
    "# 'upper right'\t1\n",
    "# 'upper left'\t2\n",
    "# 'lower left'\t3\n",
    "# 'lower right'\t4\n",
    "# 'right'\t5\n",
    "# 'center left'\t6\n",
    "# 'center right'\t7\n",
    "# 'lower center'\t8\n",
    "# 'upper center'\t9\n",
    "# 'center'\t10\n",
    "                \n",
    "plt.legend(loc=3, bbox_to_anchor=(0,0),ncol=3, title='shear rates ($\\mathregular{s^{-1}}$):',fontsize='x-small',bbox_transform=ax.transAxes)\n",
    "plt.xlabel('Time (ns)')\n",
    "plt.ylabel('Viscosity (mPa s)')\n",
    "plt.text(0.8, 0.2, subdir, horizontalalignment='center',verticalalignment='center', transform=ax.transAxes)\n",
    "\n",
    "plt.show()\n",
    "#\n",
    "# savefig('/wrk/lnl5/vis_nemd/Gromos' + '/timeevolution.jpg')"
   ]
  },
  {
   "cell_type": "code",
   "execution_count": null,
   "metadata": {
    "collapsed": true
   },
   "outputs": [],
   "source": []
  }
 ],
 "metadata": {
  "kernelspec": {
   "display_name": "Python 3",
   "language": "python",
   "name": "python3"
  },
  "language_info": {
   "codemirror_mode": {
    "name": "ipython",
    "version": 3
   },
   "file_extension": ".py",
   "mimetype": "text/x-python",
   "name": "python",
   "nbconvert_exporter": "python",
   "pygments_lexer": "ipython3",
   "version": "3.7.3"
  }
 },
 "nbformat": 4,
 "nbformat_minor": 1
}
