{
 "cells": [
  {
   "cell_type": "markdown",
   "metadata": {},
   "source": [
    "# Comment LAMMPS DATA FILE\n"
   ]
  },
  {
   "cell_type": "markdown",
   "metadata": {},
   "source": [
    "## USING LAMMPS'S FUNCTIONAL FORM AND UNIT"
   ]
  },
  {
   "cell_type": "markdown",
   "metadata": {},
   "source": [
    "## Read .data file and analyze\n",
    "* The main goal is to extract the topology and the FF coefficent information\n",
    "* Before execution, you had better comment the atom types in the \"Mass\" section of the data file. All information of bond, angle, dihedral, and improper rely on the correct naming of atom type."
   ]
  },
  {
   "cell_type": "code",
   "execution_count": 56,
   "metadata": {
    "scrolled": true
   },
   "outputs": [
    {
     "ename": "ValueError",
     "evalue": "'Atoms  # full\\n' is not in list",
     "output_type": "error",
     "traceback": [
      "\u001b[1;31m---------------------------------------------------------------------------\u001b[0m",
      "\u001b[1;31mValueError\u001b[0m                                Traceback (most recent call last)",
      "\u001b[1;32m<ipython-input-56-8c599b4d0cec>\u001b[0m in \u001b[0;36m<module>\u001b[1;34m\u001b[0m\n\u001b[0;32m      5\u001b[0m \u001b[1;33m\u001b[0m\u001b[0m\n\u001b[0;32m      6\u001b[0m \u001b[0mi_Mass\u001b[0m \u001b[1;33m=\u001b[0m \u001b[0mdata\u001b[0m\u001b[1;33m.\u001b[0m\u001b[0mindex\u001b[0m\u001b[1;33m(\u001b[0m\u001b[1;34m\"Masses\\n\"\u001b[0m\u001b[1;33m)\u001b[0m\u001b[1;33m\u001b[0m\u001b[1;33m\u001b[0m\u001b[0m\n\u001b[1;32m----> 7\u001b[1;33m \u001b[0mi_Atoms\u001b[0m \u001b[1;33m=\u001b[0m \u001b[0mdata\u001b[0m\u001b[1;33m.\u001b[0m\u001b[0mindex\u001b[0m\u001b[1;33m(\u001b[0m\u001b[1;34m\"Atoms  # full\\n\"\u001b[0m\u001b[1;33m)\u001b[0m\u001b[1;33m\u001b[0m\u001b[1;33m\u001b[0m\u001b[0m\n\u001b[0m\u001b[0;32m      8\u001b[0m \u001b[0mi_Bonds\u001b[0m \u001b[1;33m=\u001b[0m \u001b[0mdata\u001b[0m\u001b[1;33m.\u001b[0m\u001b[0mindex\u001b[0m\u001b[1;33m(\u001b[0m\u001b[1;34m\"Bonds\\n\"\u001b[0m\u001b[1;33m)\u001b[0m\u001b[1;33m\u001b[0m\u001b[1;33m\u001b[0m\u001b[0m\n\u001b[0;32m      9\u001b[0m \u001b[0mi_Angles\u001b[0m \u001b[1;33m=\u001b[0m \u001b[0mdata\u001b[0m\u001b[1;33m.\u001b[0m\u001b[0mindex\u001b[0m\u001b[1;33m(\u001b[0m\u001b[1;34m\"Angles\\n\"\u001b[0m\u001b[1;33m)\u001b[0m\u001b[1;33m\u001b[0m\u001b[1;33m\u001b[0m\u001b[0m\n",
      "\u001b[1;31mValueError\u001b[0m: 'Atoms  # full\\n' is not in list"
     ]
    }
   ],
   "source": [
    "\n",
    "from collections import defaultdict\n",
    "\n",
    "with open(\"system.data\") as file:\n",
    "    data = file.readlines()\n",
    "\n",
    "i_Mass = data.index(\"Masses\\n\")\n",
    "i_Atoms = data.index(\"Atoms  # full\\n\")\n",
    "i_Bonds = data.index(\"Bonds\\n\")\n",
    "i_Angles = data.index(\"Angles\\n\")\n",
    "i_Dihedrals = data.index(\"Dihedrals\\n\")\n",
    "i_Impropers = data.index(\"Impropers\\n\")\n",
    "\n",
    "massdata = data[i_Mass+2:i_Atoms-1]\n",
    "atomdata = data[i_Atoms+2:i_Bonds-1]\n",
    "bonddata = data[i_Bonds+2:i_Angles-1]\n",
    "angleldata = data[i_Angles+2:i_Dihedrals-1]\n",
    "dihedraldata = data[i_Dihedrals+2:i_Impropers-1]\n",
    "improperdata = data[i_Impropers+2:]\n",
    "\n",
    "atomtype = dict()\n",
    "for line in massdata:\n",
    "    num = line.split()[0]\n",
    "    # toggle different naming styles, depending on what you need\n",
    "#     ss = line.split()[5] # unique id for dihedral\n",
    "#     name = line.split()[3] + \"_\" + ss[ss.index(\"d\")+1:ss.index(\"i\")-1]\n",
    "#     name = line.split()[3]+\"-\"+line.split()[4]\n",
    "#     name = line.split()[3] + '(' + line.split()[4] + ')'\n",
    "    name = line.split()[3]\n",
    "    atomtype[num] = name\n",
    "\n",
    "atoms = dict()\n",
    "for line in atomdata:\n",
    "    num = line.split()[0]\n",
    "    atype = line.split()[2]\n",
    "    atoms[num] = atomtype[atype]\n",
    "\n",
    "#    bonds = dict()\n",
    "bondtype = defaultdict(list)\n",
    "for line in bonddata:\n",
    "    b = line.split()\n",
    "    if (atoms[b[2]], atoms[b[3]]) not in bondtype[b[1]] and (atoms[b[3]], atoms[b[2]]) not in bondtype[b[1]]:\n",
    "        bondtype[b[1]].append((atoms[b[2]], atoms[b[3]]))\n",
    "\n",
    "#    angles = dict()\n",
    "angletype = defaultdict(list)\n",
    "for line in angleldata:\n",
    "    b = line.split()\n",
    "    if (atoms[b[2]],atoms[b[3]],atoms[b[4]]) not in angletype[b[1]] and (atoms[b[4]],atoms[b[3]],atoms[b[2]]) not in angletype[b[1]]:\n",
    "        angletype[b[1]].append((atoms[b[2]],atoms[b[3]],atoms[b[4]]))\n",
    "\n",
    "#    dihedrals = dict()\n",
    "dihedraltype = defaultdict(list)\n",
    "for line in dihedraldata:\n",
    "    b = line.split()\n",
    "    c = (atoms[b[2]],atoms[b[3]],atoms[b[4]],atoms[b[5]])\n",
    "    if c not in dihedraltype[b[1]] and c[::-1] not in dihedraltype[b[1]]:\n",
    "        dihedraltype[b[1]].append(c)\n",
    "\n",
    "impropertype = defaultdict(list)\n",
    "for line in improperdata:\n",
    "    if line == '\\n':\n",
    "        break\n",
    "    b = line.split()\n",
    "    c = (atoms[b[2]],atoms[b[3]],atoms[b[4]],atoms[b[5]])\n",
    "#     if c not in impropertype[b[1]]:\n",
    "    impropertype[b[1]].append(c)\n",
    "\n"
   ]
  },
  {
   "cell_type": "markdown",
   "metadata": {},
   "source": [
    "**Print FF parameters**"
   ]
  },
  {
   "cell_type": "code",
   "execution_count": 55,
   "metadata": {},
   "outputs": [],
   "source": [
    "ffname = 'lopls2015' # force field name\n",
    "\n",
    "with open('pec6.'+ffname+'.settings') as file:\n",
    "    data_coeff = file.readlines()\n",
    "\n",
    "    \n",
    "f = open(ffname+'.ff',\"w+\")\n",
    "\n",
    "f.write(ffname + '\\n')\n",
    "\n",
    "f.write(\"\\npair_coeff\\n\")\n",
    "for line in data_coeff:\n",
    "    x = line.split()\n",
    "    if x[0] == \"pair_coeff\":\n",
    "        epislon = float(x[3])\n",
    "        sigma = float(x[4])\n",
    "        f.write(f\"{x[1]} {sigma:4.2f} {epislon:4.3f} \"+atomtype[x[1]]+'\\n')\n",
    "\n",
    "f.write(\"\\nbond_coeff\\n\")\n",
    "for line in data_coeff:\n",
    "    x = line.split()\n",
    "    if x[0] == \"bond_coeff\":\n",
    "        k = float(x[2])\n",
    "        b = float(x[3])\n",
    "        f.write(f\"{x[1]} {b:4.3f} {k:4.1f} \"+'--'.join(list(bondtype[x[1]][0]))+'\\n')\n",
    "\n",
    "f.write(\"\\nangle_coeff\\n\")\n",
    "for line in data_coeff:\n",
    "    x = line.split()\n",
    "    if x[0] == \"angle_coeff\":\n",
    "        k = float(x[2])\n",
    "        theta0 = float(x[3])\n",
    "        f.write(f\"{x[1]} {theta0:4.1f} {k:4.2f} \"+'--'.join(list(angletype[x[1]][0]))+'\\n')        \n",
    "        \n",
    "f.write(\"\\ndihedral_coeff\\n\")\n",
    "for line in data_coeff:\n",
    "    b = line.split()\n",
    "    if b[0] == \"dihedral_coeff\":\n",
    "        d_para = [float(i) for i in b[2:6]]\n",
    "        f.write(f\"{b[1]} {d_para[0]:7.5f} {d_para[1]:7.5f} {d_para[2]:7.5f} {d_para[3]:7.5f} \"+'--'.join(list(dihedraltype[b[1]][0]))+'\\n')\n",
    "\n",
    "\n",
    "f.close()"
   ]
  },
  {
   "cell_type": "code",
   "execution_count": null,
   "metadata": {},
   "outputs": [],
   "source": []
  }
 ],
 "metadata": {
  "kernelspec": {
   "display_name": "Python 3",
   "language": "python",
   "name": "python3"
  },
  "language_info": {
   "codemirror_mode": {
    "name": "ipython",
    "version": 3
   },
   "file_extension": ".py",
   "mimetype": "text/x-python",
   "name": "python",
   "nbconvert_exporter": "python",
   "pygments_lexer": "ipython3",
   "version": "3.7.3"
  }
 },
 "nbformat": 4,
 "nbformat_minor": 2
}
