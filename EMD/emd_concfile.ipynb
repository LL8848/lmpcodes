{
 "cells": [
  {
   "cell_type": "code",
   "execution_count": 2,
   "metadata": {},
   "outputs": [],
   "source": [
    "import os\n",
    "import matplotlib.pyplot as plt\n",
    "\n",
    "rootdir = '/wrk/lnl5/vis_emd2/new_373K_4/'\n",
    "subdir = ''\n",
    "dirlist = ['1','2','3','4','5','6','7','8','9']\n",
    "# dirlist = ['11','12','13','14','15','16']\n",
    "# dirlist = ['373K_1','373K_2','373K_3','373K_4','373K_5','373K_6','373K_7','373K_8','373K_9','373K_10']\n",
    "# dirlist = ['373K_1','373K_2','373K_3','373K_4','373K_5']\n",
    "# dirlist = ['373K_6','373K_7','373K_8','373K_9','373K_10']\n",
    "Nc = 400000\n",
    "mylist = []\n",
    "timestep = 0.5e-6 # unit: ns\n",
    "# fig, ax = plt.subplots()\n",
    "for dirt in dirlist:\n",
    "    path = rootdir + subdir + '/' + dirt + '/'\n",
    "    for filename in os.listdir(path):\n",
    "        if 'acf' in filename:\n",
    "            with open(path + filename) as file:\n",
    "                data = file.readlines()\n",
    "            mylist += data[-1-Nc:]\n",
    "\n",
    "with open(rootdir + \"/data.txt\",'w') as file2:\n",
    "    file2.write(\"# Time-correlated data for fix ACF\\r\\n# Timestep Number-of-time-windows\\r\\n# ndex TimeDelta Ncount v_pxy*v_pxy v_pxz*v_pxz v_pyz*v_pyz v_pxx*v_pxx v_pyy*v_pyy v_pzz*v_pzz\\n\")\n",
    "    for lines in mylist:\n",
    "        file2.write(\"{}\".format(lines))\n",
    "            "
   ]
  },
  {
   "cell_type": "code",
   "execution_count": null,
   "metadata": {
    "collapsed": true
   },
   "outputs": [],
   "source": []
  }
 ],
 "metadata": {
  "kernelspec": {
   "display_name": "Python 3",
   "language": "python",
   "name": "python3"
  },
  "language_info": {
   "codemirror_mode": {
    "name": "ipython",
    "version": 3
   },
   "file_extension": ".py",
   "mimetype": "text/x-python",
   "name": "python",
   "nbconvert_exporter": "python",
   "pygments_lexer": "ipython3",
   "version": "3.7.3"
  }
 },
 "nbformat": 4,
 "nbformat_minor": 1
}
