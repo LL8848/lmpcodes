{
 "cells": [
  {
   "cell_type": "code",
   "execution_count": 98,
   "metadata": {},
   "outputs": [],
   "source": [
    "import os\n",
    "import matplotlib.pyplot as plt\n",
    "import matplotlib as mpl\n",
    "rootdir = '/wrk/lnl5/vis_nemd/Dreiding/'\n",
    "subdirlist = ['258K','273K','298K','313K','343K','373K']\n",
    "dirlist = ['2e-7','3e-7','4e-7','5e-7','6e-7','7e-7','8e-7','9e-7','10e-7']\n",
    "\n",
    "\n",
    "mylist = []\n",
    "timestep = 0.5e-6 # unit: ns\n",
    "fig, ax = plt.subplots(2,3,sharex=True,figsize=[6.5,3.5])\n",
    "\n",
    "for axi,subdir in zip(ax.flat,subdirlist):\n",
    "    for dirt in dirlist:\n",
    "        path = rootdir + subdir + '/' + dirt + '/'\n",
    "        for filename in os.listdir(path):\n",
    "            if 'srate' in filename:\n",
    "                with open(path + filename) as file:\n",
    "                    data = file.readlines()\n",
    "                    ts = []\n",
    "                    vis = []\n",
    "                    for line in data[2:]:\n",
    "                        ts.append(float(line.split()[0])*timestep)\n",
    "                        vis.append(float(line.split()[1]))\n",
    "                    axi.plot(ts, vis, label=\"%.1E\" % (float(dirt)*1e7),lw=0.5)\n",
    "\n",
    "#  Location String\tLocation Code              \n",
    "# 'best'\t0\n",
    "# 'upper right'\t1\n",
    "# 'upper left'\t2\n",
    "# 'lower left'\t3\n",
    "# 'lower right'\t4\n",
    "# 'right'\t5\n",
    "# 'center left'\t6\n",
    "# 'center right'\t7\n",
    "# 'lower center'\t8\n",
    "# 'upper center'\t9\n",
    "# 'center'\t10\n",
    "  \n",
    "\n",
    "# params = {'font.size':12,\n",
    "#           'legend.fontsize': 'small',\n",
    "#          'axes.labelsize': 'xx-small',\n",
    "#          'axes.titlesize':'xx-small',\n",
    "#          'xtick.labelsize':'xx-small',\n",
    "#          'ytick.labelsize':'xx-small',\n",
    "#          'lines.linewidth':0.5}\n",
    "# mpl.rcParams.update(params)\n",
    "# \n",
    "# fig.legend(ax[1,2].get_lines(),\n",
    "#            ['2','3','4','5','6','7','8','9','10'],\n",
    "#            loc=1, \n",
    "#            bbox_to_anchor=(1,1),\n",
    "#            ncol=1, \n",
    "#            title='shear rates ($\\mathregular{s^{-1}}$):',\n",
    "#            fontsize='x-small')\n",
    "\n",
    "ax[0,0].set(ylabel=\"Viscosity (mPa s)\",ylim=(0,160))\n",
    "ax[0,1].set(ylim=(0,100))\n",
    "ax[0,2].set(ylim=(0,50))\n",
    "ax[1,0].set(xlabel=\"Time (ns)\",ylabel=\"Viscosity (mPa s)\",ylim=(0,25))\n",
    "ax[1,1].set(xlabel=\"Time (ns)\",ylim=(0,10))\n",
    "ax[1,2].set(xlabel=\"Time (ns)\",ylim=(0,5))\n",
    "\n",
    "\n",
    "# for axi in ax.flat:\n",
    "#     axi.label_outer()\n",
    "# plt.text(0.8, 0.2, subdir, horizontalalignment='center',verticalalignment='center', transform=ax.transAxes)\n",
    "\n",
    "# plt.show()\n",
    "#\n",
    "plt.savefig('subplots.eps',dpi=300)"
   ]
  },
  {
   "cell_type": "code",
   "execution_count": 88,
   "metadata": {},
   "outputs": [],
   "source": [
    "plt.close('all')"
   ]
  },
  {
   "cell_type": "code",
   "execution_count": null,
   "metadata": {
    "collapsed": true
   },
   "outputs": [],
   "source": []
  }
 ],
 "metadata": {
  "kernelspec": {
   "display_name": "Python 3",
   "language": "python",
   "name": "python3"
  },
  "language_info": {
   "codemirror_mode": {
    "name": "ipython",
    "version": 3
   },
   "file_extension": ".py",
   "mimetype": "text/x-python",
   "name": "python",
   "nbconvert_exporter": "python",
   "pygments_lexer": "ipython3",
   "version": "3.7.3"
  }
 },
 "nbformat": 4,
 "nbformat_minor": 1
}
