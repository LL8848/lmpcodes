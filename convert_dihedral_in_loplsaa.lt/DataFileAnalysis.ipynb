{
 "cells": [
  {
   "cell_type": "markdown",
   "metadata": {},
   "source": [
    "# Convert dihedral coeff in lopls\n",
    "\n",
    "from opls style to multi/harmonic style.\n",
    "\n",
    "unit is not changed here"
   ]
  },
  {
   "cell_type": "markdown",
   "metadata": {},
   "source": [
    "## Conversion between RB-style dihedral function and Fourier (opls) style"
   ]
  },
  {
   "cell_type": "code",
   "execution_count": 3,
   "metadata": {},
   "outputs": [],
   "source": [
    "\n",
    "\n",
    "def opls2RB(Flist):\n",
    "    # convert the LAMMPS's \"opls\" dihedral form to RB form which is used in Gromacs\n",
    "    # v_opls = f1*(1+cos(fi))/2 + f2*(1-cos(2fi))/2 + f3*(1+cos(3fi))/2 + f4*(1-cos(4fi))/2\n",
    "    f0 = 0\n",
    "    f1 = Flist[0]\n",
    "    f2 = Flist[1]\n",
    "    f3 = Flist[2]\n",
    "    c0 = 0.5*(f1+2*f2+f3)+f0\n",
    "    c1 = -0.5*(f1-3*f3)\n",
    "    c2 = -f2\n",
    "    c3 = -2*f3\n",
    "\n",
    "    return [c0,c1,c2,c3]    \n",
    "\n",
    "\n",
    "# # this function has been depreciated\n",
    "# # because RB can only converted to the Fourier function with a constant term\n",
    "# # see my dicussion in Onenote\n",
    "# def Fourier2RB(Flist):\n",
    "#     # lammps standard opls style dihedral:\n",
    "#     # v_dihedral = f1*(1+cos(fi))/2 + f2*(1-cos(2fi))/2 + f3*(1+cos(3fi))/2\n",
    "# #     Flist = [f1,f2,f3,f4]\n",
    "#     [f1,f2,f3,f4] = Flist\n",
    "#     c0 = f2 + (f1+f3)/2.0\n",
    "#     c1 = 0.5 * (-1.0*f1+3*f3)\n",
    "#     c2 = -1.0*f2 + 4*f4\n",
    "#     c3 = -2 * f3\n",
    "\n",
    "#     return [c0,c1,c2,c3]\n",
    "\n",
    "\n",
    "\n",
    "def Fourier2RB_Siu(Flist):\n",
    "    # lopls paper by Siu et al. 2012\n",
    "    # v_Fourier = f0 + f1*(1+cos(fi))/2 + f2*(1-cos(2fi))/2 + f3*(1+cos(3fi))/2\n",
    "    # v_RB = c0 + c1*cos(fi) + c2*cos(fi)^2 + c3*cos(fi)^3\n",
    "    #\n",
    "    [f0,f1,f2,f3] = Flist\n",
    "    c0 = 0.5*(f1+2*f2+f3)+f0\n",
    "    c1 = -0.5*(f1-3*f3)\n",
    "    c2 = -f2\n",
    "    c3 = -2*f3\n",
    "\n",
    "    return [c0,c1,c2,c3]\n",
    "\n",
    "\n",
    "# # this function has been depreciated\n",
    "# # because RB can only converted to the Fourier function with a constant term\n",
    "# # see my dicussion in Onenote\n",
    "# def RB2Fourier(RBlist):\n",
    "#     # convert RB dihedral form to lammps's opls standard form\n",
    "#     # RB: v_RB = c0 + c1*cos(fi) + c2*cos(fi)^2 + c3*cos(fi)^3\n",
    "#     [c0,c1,c2,c3] = RBlist\n",
    "\n",
    "#     f3 = -0.5*c3\n",
    "#     f2 = -c2\n",
    "#     f1 = -1.5*c3-2*c1\n",
    "\n",
    "#     return [f1,f2,f3,0]\n",
    "\n",
    "\n",
    "def RB2Fourier_Siu(RBlist):\n",
    "    # convert RB dihedral form to Siu 2012's opls form\n",
    "    # lopls paper by Siu et al. 2012\n",
    "    # v_Fourier = f0 + f1*(1+cos(fi))/2 + f2*(1-cos(2fi))/2 + f3*(1+cos(3fi))/2\n",
    "    # v_RB = c0 + c1*cos(fi) + c2*cos(fi)^2 + c3*cos(fi)^3\n",
    "    [c0,c1,c2,c3] = RBlist\n",
    "    f3 = -0.5*c3\n",
    "    f2 = -c2\n",
    "    f1 = -1.5*c3-2*c1\n",
    "    f0 = c0 - 0.5*(f1+2*f2+f3)\n",
    "    \n",
    "    return [f0,f1,f2,f3]"
   ]
  },
  {
   "cell_type": "markdown",
   "metadata": {},
   "source": [
    "## Unit conversion"
   ]
  },
  {
   "cell_type": "code",
   "execution_count": 17,
   "metadata": {},
   "outputs": [],
   "source": [
    "def kcal2kj (value):\n",
    "    \"\"\"\n",
    "    convert unit from kcal/mol to kJ/mol \n",
    "    1 kcal = 4.184 kJ\n",
    "    \"\"\"\n",
    "\n",
    "    return (float(value)*4.184)\n",
    "\n",
    "\n",
    "def kj2kcal (value):\n",
    "    \"\"\"\n",
    "    convert unit from kj/mol to kcal/mol \n",
    "    1 kcal = 4.184 kJ\n",
    "    \"\"\"\n",
    "    \n",
    "    return (float(value)/4.184)\n",
    "\n",
    "\n",
    "def ev2kj (value):\n",
    "    \"\"\"\n",
    "    convert unit from eV to kJ/mol \n",
    "    1 eV = 96 kJ/mol\n",
    "    \"\"\"\n",
    "    \n",
    "    return float(value)*96"
   ]
  },
  {
   "cell_type": "code",
   "execution_count": 23,
   "metadata": {
    "scrolled": true
   },
   "outputs": [
    {
     "data": {
      "text/plain": [
       "[0.099, 0.29700000000000004, 0, -0.396]"
      ]
     },
     "execution_count": 23,
     "metadata": {},
     "output_type": "execute_result"
    }
   ],
   "source": [
    "opls2RB([0,0,0.198])"
   ]
  },
  {
   "cell_type": "code",
   "execution_count": null,
   "metadata": {},
   "outputs": [],
   "source": []
  },
  {
   "cell_type": "code",
   "execution_count": null,
   "metadata": {},
   "outputs": [],
   "source": []
  },
  {
   "cell_type": "code",
   "execution_count": null,
   "metadata": {},
   "outputs": [],
   "source": []
  },
  {
   "cell_type": "code",
   "execution_count": null,
   "metadata": {},
   "outputs": [],
   "source": []
  },
  {
   "cell_type": "code",
   "execution_count": null,
   "metadata": {},
   "outputs": [],
   "source": []
  },
  {
   "cell_type": "code",
   "execution_count": null,
   "metadata": {},
   "outputs": [],
   "source": []
  },
  {
   "cell_type": "code",
   "execution_count": 20,
   "metadata": {},
   "outputs": [
    {
     "name": "stdout",
     "output_type": "stream",
     "text": [
      "dihedral_coeff @dihedral:013L_013L_013L_013L multi/harmonic 0.19711 -0.05502 0.21434 -0.35644\n",
      "dihedral_coeff @dihedral:X_047L_047L_X multi/harmonic 12.25026 -0.00000 -12.25026 -0.00000\n",
      "dihedral_coeff @dihedral:047L_047L_013L_013L multi/harmonic -0.13225 0.24759 -0.32189 0.20655\n",
      "dihedral_coeff @dihedral:013L_013L_013L_047L multi/harmonic 0.46434 0.02552 -0.13437 -0.35549\n",
      "dihedral_coeff @dihedral:046L_013LL_005L_007L multi/harmonic 0.18080 0.56682 0.01456 -0.76218\n",
      "dihedral_coeff @dihedral:046L_013LL_013LL_005L multi/harmonic 0.17364 0.39312 -0.03302 -0.53374\n",
      "dihedral_coeff @dihedral:013LL_013LL_005L_007L multi/harmonic -0.16734 0.89769 0.01604 -0.74640\n",
      "dihedral_coeff @dihedral:013LL_013LL_013LL_005L multi/harmonic 0.70893 0.30050 0.26631 -1.27573\n",
      "dihedral_coeff @dihedral:005L_013LL_013LL_005L multi/harmonic 0.85869 -0.25693 0.84971 -1.45146\n",
      "dihedral_coeff @dihedral:013LL_003L_020L_013LL multi/harmonic 7.29732 -1.55961 -5.73771 -0.00000\n",
      "dihedral_coeff @dihedral:013LL_020L_003L_004L multi/harmonic 5.73772 -0.00000 -5.73772 -0.00000\n",
      "dihedral_coeff @dihedral:046L_013LL_003L_020L multi/harmonic 0.05437 0.17142 -0.00218 -0.22361\n",
      "dihedral_coeff @dihedral:003L_020L_013LL_013LL multi/harmonic -1.80419 1.80355 1.24844 -1.24779\n",
      "dihedral_coeff @dihedral:046L_013LL_013LL_020L multi/harmonic 0.24416 0.63895 -0.02362 -0.85949\n",
      "dihedral_coeff @dihedral:013LL_013LL_003L_020L multi/harmonic -0.43108 -1.18251 0.62691 0.98669\n",
      "dihedral_coeff @dihedral:013LL_013LL_003L_004L multi/harmonic 0.76347 -0.86811 -1.23685 1.34149\n",
      "dihedral_coeff @dihedral:003L_013LL_013LL_046L multi/harmonic -0.13131 -0.44175 -0.01735 0.59042\n",
      "dihedral_coeff @dihedral:003L_013LL_013LL_013LL multi/harmonic -1.47004 2.08662 0.62733 -1.24390\n",
      "dihedral_coeff @dihedral:013LL_013LL_013LL_020L multi/harmonic 0.60883 0.38129 1.02408 -2.01420\n",
      "dihedral_coeff @dihedral:020L_013LL_013LL_020L multi/harmonic 0.36935 -0.34673 2.62698 -2.64960\n",
      "dihedral_coeff @dihedral:005L_013LL_013LL_020L multi/harmonic 0.75766 -0.65890 2.37742 -2.47618\n"
     ]
    }
   ],
   "source": [
    "with open(\"old_dihedral_coeff.txt\") as file:\n",
    "    data = file.readlines()\n",
    "    \n",
    "for line in data:\n",
    "    word = line.split()\n",
    "    Flist = [float(word[2]),float(word[3]),float(word[4])]\n",
    "#     print(Flist)\n",
    "    c = opls2RB(Flist)\n",
    "    print(f\"{word[0]} {word[1]} multi/harmonic {c[0]:7.5f} {c[1]:7.5f} {c[2]:7.5f} {c[3]:7.5f}\")"
   ]
  },
  {
   "cell_type": "code",
   "execution_count": 10,
   "metadata": {},
   "outputs": [
    {
     "data": {
      "text/plain": [
       "[0.7576649999999999, -0.6589049999999999, 2.37742, -2.47618]"
      ]
     },
     "execution_count": 10,
     "metadata": {},
     "output_type": "execute_result"
    }
   ],
   "source": [
    "c"
   ]
  },
  {
   "cell_type": "code",
   "execution_count": null,
   "metadata": {},
   "outputs": [],
   "source": []
  }
 ],
 "metadata": {
  "kernelspec": {
   "display_name": "Python 3",
   "language": "python",
   "name": "python3"
  },
  "language_info": {
   "codemirror_mode": {
    "name": "ipython",
    "version": 3
   },
   "file_extension": ".py",
   "mimetype": "text/x-python",
   "name": "python",
   "nbconvert_exporter": "python",
   "pygments_lexer": "ipython3",
   "version": "3.7.3"
  }
 },
 "nbformat": 4,
 "nbformat_minor": 2
}
