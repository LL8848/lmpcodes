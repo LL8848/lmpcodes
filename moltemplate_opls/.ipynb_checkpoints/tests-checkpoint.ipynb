{
 "cells": [
  {
   "cell_type": "code",
   "execution_count": 1,
   "metadata": {},
   "outputs": [],
   "source": [
    "# # this function has been depreciated\n",
    "# # because RB can only converted to the Fourier function with a constant term\n",
    "# # see my dicussion in Onenote\n",
    "# def Fourier2RB(Flist):\n",
    "#     # lammps standard opls style dihedral:\n",
    "#     # v_dihedral = f1*(1+cos(fi))/2 + f2*(1-cos(2fi))/2 + f3*(1+cos(3fi))/2\n",
    "# #     Flist = [f1,f2,f3,f4]\n",
    "#     [f1,f2,f3,f4] = Flist\n",
    "#     c0 = f2 + (f1+f3)/2.0\n",
    "#     c1 = 0.5 * (-1.0*f1+3*f3)\n",
    "#     c2 = -1.0*f2 + 4*f4\n",
    "#     c3 = -2 * f3\n",
    "\n",
    "#     return [c0,c1,c2,c3]\n",
    "\n",
    "\n",
    "def Fourier2RB_Siu(Flist):\n",
    "    # lopls paper by Siu et al. 2012\n",
    "    # v_dihedral = f0 + f1*(1+cos(fi))/2 + f2*(1-cos(2fi))/2 + f3*(1+cos(3fi))/2\n",
    "    #\n",
    "    [f0,f1,f2,f3] = Flist\n",
    "    c0 = 0.5*(f1+2*f2+f3)+f0\n",
    "    c1 = -0.5*(f1-3*f3)\n",
    "    c2 = -f2\n",
    "    c3 = -2*f3\n",
    "\n",
    "    return [c0,c1,c2,c3]\n",
    "\n",
    "\n",
    "# # this function has been depreciated\n",
    "# # because RB can only converted to the Fourier function with a constant term\n",
    "# # see my dicussion in Onenote\n",
    "# def RB2Fourier(RBlist):\n",
    "#     # convert RB dihedral form to lammps's opls standard form\n",
    "#     # RB: v_RB = c0 + c1*cos(fi) + c2*cos(fi)^2 + c3*cos(fi)^3\n",
    "#     [c0,c1,c2,c3] = RBlist\n",
    "\n",
    "#     f3 = -0.5*c3\n",
    "#     f2 = -c2\n",
    "#     f1 = -1.5*c3-2*c1\n",
    "\n",
    "#     return [f1,f2,f3,0]\n",
    "\n",
    "\n",
    "def RB2Fourier_Siu(RBlist):\n",
    "    # convert RB dihedral form to Siu 2012's opls form\n",
    "    [c0,c1,c2,c3] = RBlist\n",
    "    f3 = -0.5*c3\n",
    "    f2 = -c2\n",
    "    f1 = -1.5*c3-2*c1\n",
    "    f0 = c0 - 0.5*(f1+2*f2+f3)\n",
    "    \n",
    "    return [f0,f1,f2,f3]"
   ]
  },
  {
   "cell_type": "code",
   "execution_count": 11,
   "metadata": {},
   "outputs": [],
   "source": [
    "from collections import defaultdict\n",
    "\n",
    "\n",
    "def kcal2kj (value):\n",
    "    \"\"\"\n",
    "    convert unit from kcal/mol to kJ/mol \n",
    "    1 kJ/mol = 0.24 kcal/mol\n",
    "    \"\"\"\n",
    "\n",
    "    return (float(value)/0.24)\n",
    "\n",
    "\n",
    "def kj2kcal (value):\n",
    "    \"\"\"\n",
    "    convert unit from kj/mol to kcal/mol \n",
    "    1 kJ/mol = 0.24 kcal/mol\n",
    "    \"\"\"\n",
    "    \n",
    "    return (float(value)*0.24)\n",
    "\n",
    "\n",
    "def ev2kj (value):\n",
    "    \"\"\"\n",
    "    convert unit from eV to kJ/mol \n",
    "    1 eV = 96 kJ/mol\n",
    "    \"\"\"\n",
    "    \n",
    "    return float(value)*96"
   ]
  },
  {
   "cell_type": "code",
   "execution_count": 12,
   "metadata": {},
   "outputs": [
    {
     "name": "stdout",
     "output_type": "stream",
     "text": [
      "0.51616032\n",
      "0.22902624000000002\n",
      "0.89226432\n",
      "1.4837856\n"
     ]
    }
   ],
   "source": [
    "james = [0.00537667, 0.00238569, 0.00929442, 0.0154561]\n",
    "for i in james:\n",
    "    print(ev2kj(i))"
   ]
  },
  {
   "cell_type": "code",
   "execution_count": 4,
   "metadata": {},
   "outputs": [
    {
     "name": "stdout",
     "output_type": "stream",
     "text": [
      "[2.6862193275000004, -0.8930917383333334, 0.74258086375, 0.0] [2.9822543220833335, 0.4465458691666667, -0.74258086375, -0.0]\n"
     ]
    }
   ],
   "source": [
    "f1 = [0.6446926386,-0.2143420172,0.1782194073,0.0]\n",
    "c1 = [kcal2kj(i) for i in f1]\n",
    "print(c1,Fourier2RB_Siu(c1))\n"
   ]
  },
  {
   "cell_type": "code",
   "execution_count": 5,
   "metadata": {},
   "outputs": [
    {
     "data": {
      "text/plain": [
       "[0.5153703572916668, -0.2292383681250001, 0.8930917383333334, -1.4851617275]"
      ]
     },
     "execution_count": 5,
     "metadata": {},
     "output_type": "execute_result"
    }
   ],
   "source": [
    "f2 =[-0.305938,2.6862193275000004, -0.8930917383333334, 0.74258086375]\n",
    "Fourier2RB_Siu(f2)"
   ]
  },
  {
   "cell_type": "code",
   "execution_count": 10,
   "metadata": {},
   "outputs": [
    {
     "data": {
      "text/plain": [
       "[2.6673940000000003, -0.896807, 0.73567, 0]"
      ]
     },
     "execution_count": 10,
     "metadata": {},
     "output_type": "execute_result"
    }
   ],
   "source": [
    "c2 = [0.51878,-0.230192,0.896807,-1.47134]\n",
    "# for i in RB2Fourier(c2):\n",
    "#     print(kj2kcal(i))\n",
    "f3 = RB2Fourier(c2)\n",
    "# Fourier2RB(f3)\n",
    "f3"
   ]
  },
  {
   "cell_type": "code",
   "execution_count": null,
   "metadata": {},
   "outputs": [],
   "source": []
  },
  {
   "cell_type": "code",
   "execution_count": 5,
   "metadata": {},
   "outputs": [
    {
     "name": "stdout",
     "output_type": "stream",
     "text": [
      "dihedral_coeff 1 [0.0, 0.0, 0.0, -0.0]\n",
      "dihedral_coeff 2 [0.0, 0.0, 0.0, -0.0]\n",
      "dihedral_coeff 3 [-0.06636, -0.19908, 0.0, 0.26544]\n",
      "dihedral_coeff 4 [0.01584, 0.04752, 0.0, -0.06336]\n",
      "dihedral_coeff 5 [1.22976, 0.0, -1.22976, -0.0]\n",
      "dihedral_coeff 6 [1.7900399999999999, -0.5602799999999999, -1.22976, -0.0]\n",
      "dihedral_coeff 7 [-0.28452, 0.36060000000000003, 0.07511999999999999, -0.1512]\n",
      "dihedral_coeff 8 [-0.012, -0.036000000000000004, 0.0, 0.048]\n",
      "dihedral_coeff 9 [0.036, 0.10799999999999998, 0.0, -0.144]\n",
      "dihedral_coeff 10 [0.036, 0.10799999999999998, 0.0, -0.144]\n",
      "dihedral_coeff 11 [-0.126, 0.29832000000000003, 0.03024, -0.20256]\n",
      "dihedral_coeff 12 [0.02376, 0.07128, 0.0, -0.09504]\n",
      "dihedral_coeff 13 [0.16799999999999998, -0.08399999999999999, 0.012, -0.096]\n",
      "dihedral_coeff 14 [0.047307361379999996, -0.013204130004000017, 0.051442084128, -0.08554531550399999]\n"
     ]
    }
   ],
   "source": [
    "\n",
    "\n",
    "\n",
    "with open(\"system.data\") as file:\n",
    "    data = file.readlines()\n",
    "\n",
    "i_Mass = data.index(\"Masses\\n\")\n",
    "i_Atoms = data.index(\"Atoms  # full\\n\")\n",
    "i_Bonds = data.index(\"Bonds\\n\")\n",
    "i_Angles = data.index(\"Angles\\n\")\n",
    "i_Dihedrals = data.index(\"Dihedrals\\n\")\n",
    "i_Impropers = data.index(\"Impropers\\n\")\n",
    "\n",
    "massdata = data[i_Mass+2:i_Atoms-1]\n",
    "atomdata = data[i_Atoms+2:i_Bonds-1]\n",
    "bonddata = data[i_Bonds+2:i_Angles-1]\n",
    "angleldata = data[i_Angles+2:i_Dihedrals-1]\n",
    "dihedraldata = data[i_Dihedrals+2:i_Impropers-1]\n",
    "improperdata = data[i_Impropers+2:]\n",
    "\n",
    "atomtype = dict()\n",
    "for line in massdata:\n",
    "    num = line.split()[0]\n",
    "    name = line.split()[3]\n",
    "    atomtype[num] = name\n",
    "\n",
    "atoms = dict()\n",
    "for line in atomdata:\n",
    "    num = line.split()[0]\n",
    "    atype = line.split()[2]\n",
    "    atoms[num] = atomtype[atype]\n",
    "\n",
    "#    bonds = dict()\n",
    "bondtype = defaultdict(list)\n",
    "for line in bonddata:\n",
    "    b = line.split()\n",
    "    if (atoms[b[2]], atoms[b[3]]) not in bondtype[b[1]] and (atoms[b[3]], atoms[b[2]]) not in bondtype[b[1]]:\n",
    "        bondtype[b[1]].append((atoms[b[2]], atoms[b[3]]))\n",
    "\n",
    "#    angles = dict()\n",
    "angletype = defaultdict(list)\n",
    "for line in angleldata:\n",
    "    b = line.split()\n",
    "    if (atoms[b[2]],atoms[b[3]],atoms[b[4]]) not in angletype[b[1]] and (atoms[b[4]],atoms[b[3]],atoms[b[2]]) not in angletype[b[1]]:\n",
    "        angletype[b[1]].append((atoms[b[2]],atoms[b[3]],atoms[b[4]]))\n",
    "\n",
    "#    dihedrals = dict()\n",
    "dihedraltype = defaultdict(list)\n",
    "for line in dihedraldata:\n",
    "    b = line.split()\n",
    "    c = (atoms[b[2]],atoms[b[3]],atoms[b[4]],atoms[b[5]])\n",
    "    if c not in dihedraltype[b[1]] and c[::-1] not in dihedraltype[b[1]]:\n",
    "        dihedraltype[b[1]].append(c)\n",
    "\n",
    "impropertype = defaultdict(list)\n",
    "for line in improperdata:\n",
    "    if line == '\\n':\n",
    "        break\n",
    "    b = line.split()\n",
    "    c = (atoms[b[2]],atoms[b[3]],atoms[b[4]],atoms[b[5]])\n",
    "#     if c not in impropertype[b[1]]:\n",
    "    impropertype[b[1]].append(c)\n",
    "\n",
    "with open(\"system.in.settings\") as file:\n",
    "    data_coeff = file.readlines()\n",
    "\n",
    "for line in data_coeff:\n",
    "    b = line.split()\n",
    "    if b[0] == \"dihedral_coeff\":\n",
    "        d_para = [kj2kcal(float(i)) for i in b[2:6]]\n",
    "    \n",
    "        print(b[0],b[1],Fourier2RB(d_para))"
   ]
  },
  {
   "cell_type": "code",
   "execution_count": null,
   "metadata": {},
   "outputs": [],
   "source": []
  }
 ],
 "metadata": {
  "kernelspec": {
   "display_name": "Python 3",
   "language": "python",
   "name": "python3"
  },
  "language_info": {
   "codemirror_mode": {
    "name": "ipython",
    "version": 3
   },
   "file_extension": ".py",
   "mimetype": "text/x-python",
   "name": "python",
   "nbconvert_exporter": "python",
   "pygments_lexer": "ipython3",
   "version": "3.7.3"
  }
 },
 "nbformat": 4,
 "nbformat_minor": 2
}
