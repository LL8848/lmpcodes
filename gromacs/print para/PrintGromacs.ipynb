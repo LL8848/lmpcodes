{
 "cells": [
  {
   "cell_type": "code",
   "execution_count": 56,
   "metadata": {},
   "outputs": [],
   "source": [
    "def kcal2kj (value):\n",
    "    \"\"\"\n",
    "    convert unit from kcal/mol to kJ/mol \n",
    "    1 kcal = 4.184 kJ\n",
    "    \"\"\"\n",
    "\n",
    "    return (float(value)*4.184)\n",
    "\n",
    "\n",
    "def kj2kcal (value):\n",
    "    \"\"\"\n",
    "    convert unit from kj/mol to kcal/mol \n",
    "    1 kcal = 4.184 kJ\n",
    "    \"\"\"\n",
    "    \n",
    "    return (float(value)/4.184)\n",
    "\n",
    "\n",
    "def ev2kj (value):\n",
    "    \"\"\"\n",
    "    convert unit from eV to kJ/mol \n",
    "    1 eV = 96 kJ/mol\n",
    "    \"\"\"\n",
    "    \n",
    "    return float(value)*96"
   ]
  },
  {
   "cell_type": "code",
   "execution_count": 12,
   "metadata": {},
   "outputs": [],
   "source": [
    "with open(\"ffnonbonded.itp\") as file:\n",
    "    data = file.readlines()\n",
    "\n",
    "atomtypes = dict()    \n",
    "for line in data:\n",
    "    line.strip(' ')\n",
    "    if line[0] is not '[' and line[0] is not ';':\n",
    "        word = line.split()\n",
    "        atomtypes[word[0]] = word[1:8]"
   ]
  },
  {
   "cell_type": "code",
   "execution_count": null,
   "metadata": {},
   "outputs": [],
   "source": [
    "with open(\"ffbonded.itp\") as file:\n",
    "    data = file.readlines()\n",
    "\n",
    "i_bondtypes = data.index(\"[ bondtypes ]\\n\")\n",
    "i_Atoms = data.index(\" Atoms #full\\n\")\n",
    "i_Bonds = data.index(\" Bonds\\n\")\n",
    "i_Angles = data.index(\" Angles\\n\")\n",
    "i_Dihedrals = data.index(\" Dihedrals\\n\")"
   ]
  },
  {
   "cell_type": "code",
   "execution_count": 59,
   "metadata": {},
   "outputs": [],
   "source": [
    "with open('ffbonded.itp') as file:\n",
    "    ffbonded = file.readlines()\n",
    "    \n",
    "i_bondcoeff = ffbonded.index(\"[ bondtypes ]\\n\")\n",
    "i_constraintypes = ffbonded.index(\"[ constrainttypes ]\\n\")\n",
    "i_anglecoeff = ffbonded.index(\"[ angletypes ]\\n\")\n",
    "\n",
    "bondcoeffdata = ffbonded[i_bondcoeff+1:i_constraintypes-1]\n",
    "bondcoeff = dict()\n",
    "for line in bondcoeffdata:\n",
    "    if line[0] is not ';':\n",
    "        word = line.split()\n",
    "        bondcoeff[word[0] + \" \" + word[1]] = [float(word[3]),float(word[4])]\n"
   ]
  },
  {
   "cell_type": "code",
   "execution_count": 61,
   "metadata": {},
   "outputs": [
    {
     "name": "stdout",
     "output_type": "stream",
     "text": [
      "1 ('HC', 'CT') 0.109 284512.0\n",
      "2 ('CT', 'CT') 0.1529 224262.4\n",
      "3 ('CT', 'C_2') 0.1522 265265.6\n",
      "4 ('C_2', 'O_2') 0.1229 476976.0\n",
      "5 ('C_2', 'OS') 0.1327 179075.2\n",
      "6 ('OS', 'CT') 0.141 267776.0\n"
     ]
    }
   ],
   "source": [
    "from collections import defaultdict\n",
    "\n",
    "with open('topol.top') as file:\n",
    "    data = file.readlines()\n",
    "    \n",
    "i_atoms = data.index(\"[ atoms ]\\n\")\n",
    "i_bonds = data.index(\"[ bonds ]\\n\")\n",
    "i_angles = data.index(\"[ angles ]\\n\")\n",
    "i_dihedrals = data.index(\"[ dihedrals ]\\n\")\n",
    "i_impropers = data.index(\"[ impropers ]\\n\")\n",
    "\n",
    "atomdata = data[i_atoms+1:i_bonds-1]\n",
    "bonddata = data[i_bonds+1:i_angles-1]\n",
    "angleldata = data[i_angles+1:i_dihedrals-1]\n",
    "dihedraldata = data[i_dihedrals+1:i_impropers-1]\n",
    "\n",
    "atoms = dict()\n",
    "for line in atomdata:\n",
    "    word = line.split()\n",
    "#     atoms[word[0]] = word[1]  # use atom name (opls_xxx)\n",
    "    atoms[word[0]] = atomtypes[word[1]][0] # use bond_type name\n",
    "\n",
    "\n",
    "bondtype = defaultdict(list)\n",
    "c = 1 # c: type number\n",
    "for line in bonddata:\n",
    "    b = line.split()\n",
    "    if (atoms[b[1]], atoms[b[0]]) not in bondtype.values() and (atoms[b[0]], atoms[b[1]]) not in bondtype.values():\n",
    "        bondtype[c] = ((atoms[b[0]], atoms[b[1]]))\n",
    "        c += 1\n",
    "        \n",
    "for i in sorted(bondtype.keys()):\n",
    "    # look up bondcoeff\n",
    "    try:\n",
    "        [b0,kb] = bondcoeff[bondtype[i][0] + \" \" + bondtype[i][1]]\n",
    "    except KeyError:\n",
    "        [b0,kb] = bondcoeff[bondtype[i][1] + \" \" + bondtype[i][0]]\n",
    "    print(f\"{i} {bondtype[i]} {b0} {kb}\")"
   ]
  },
  {
   "cell_type": "code",
   "execution_count": 46,
   "metadata": {},
   "outputs": [
    {
     "data": {
      "text/plain": [
       "dict_values([('HC', 'CT'), ('CT', 'CT'), ('CT', 'C_2'), ('C_2', 'O_2'), ('C_2', 'OS'), ('OS', 'CT')])"
      ]
     },
     "execution_count": 46,
     "metadata": {},
     "output_type": "execute_result"
    }
   ],
   "source": [
    "bondtype.values()"
   ]
  },
  {
   "cell_type": "code",
   "execution_count": null,
   "metadata": {},
   "outputs": [],
   "source": []
  }
 ],
 "metadata": {
  "kernelspec": {
   "display_name": "Python 3",
   "language": "python",
   "name": "python3"
  },
  "language_info": {
   "codemirror_mode": {
    "name": "ipython",
    "version": 3
   },
   "file_extension": ".py",
   "mimetype": "text/x-python",
   "name": "python",
   "nbconvert_exporter": "python",
   "pygments_lexer": "ipython3",
   "version": "3.7.3"
  }
 },
 "nbformat": 4,
 "nbformat_minor": 2
}
