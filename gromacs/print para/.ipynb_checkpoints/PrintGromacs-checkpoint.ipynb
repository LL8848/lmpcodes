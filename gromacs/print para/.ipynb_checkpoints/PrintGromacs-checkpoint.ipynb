{
 "cells": [
  {
   "cell_type": "markdown",
   "metadata": {},
   "source": [
    "# Read force field parameters of OPLS in Gromacs\n",
    "**Files needed:**\n",
    "- ffbonded.tip\n",
    "- ffnonbonded.tip\n",
    "- topol.top\n",
    "\n",
    "**Note:**\n",
    "- don't use \"#include xx.tip\" in topol.top; instead, copy the the included content to topol.top\n",
    "- change the title of the improper section in topol.top to [ impropers ] "
   ]
  },
  {
   "cell_type": "code",
   "execution_count": 8,
   "metadata": {},
   "outputs": [],
   "source": [
    "def kcal2kj (value):\n",
    "    \"\"\"\n",
    "    convert unit from kcal/mol to kJ/mol \n",
    "    1 kcal = 4.184 kJ\n",
    "    \"\"\"\n",
    "\n",
    "    return (float(value)*4.184)\n",
    "\n",
    "\n",
    "def kj2kcal (value):\n",
    "    \"\"\"\n",
    "    convert unit from kj/mol to kcal/mol \n",
    "    1 kcal = 4.184 kJ\n",
    "    \"\"\"\n",
    "    \n",
    "    return (float(value)/4.184)\n",
    "\n",
    "\n",
    "def ev2kj (value):\n",
    "    \"\"\"\n",
    "    convert unit from eV to kJ/mol \n",
    "    1 eV = 96 kJ/mol\n",
    "    \"\"\"\n",
    "    \n",
    "    return float(value)*96"
   ]
  },
  {
   "cell_type": "code",
   "execution_count": 9,
   "metadata": {},
   "outputs": [],
   "source": [
    "with open(\"ffnonbonded.itp\") as file:\n",
    "    data = file.readlines()\n",
    "\n",
    "atomtypes = dict()    \n",
    "for line in data:\n",
    "    line.strip(' ')\n",
    "    if line[0] is not '[' and line[0] is not ';':\n",
    "        word = line.split()\n",
    "        atomtypes[word[0]] = word[1:8]"
   ]
  },
  {
   "cell_type": "code",
   "execution_count": 76,
   "metadata": {
    "scrolled": true
   },
   "outputs": [],
   "source": [
    "with open('ffbonded.itp') as file:\n",
    "    ffbonded = file.readlines()\n",
    "    \n",
    "i_bondcoeff = ffbonded.index(\"[ bondtypes ]\\n\")\n",
    "i_constraintypes = ffbonded.index(\"[ constrainttypes ]\\n\")\n",
    "i_anglecoeff = ffbonded.index(\"[ angletypes ]\\n\")\n",
    "i_dihedralcoeff = ffbonded.index(\"[ dihedraltypes ]\\n\")\n",
    "\n",
    "illegalsign = [\"\\n\",\"#\",\";\"]\n",
    "\n",
    "bondcoeffdata = ffbonded[i_bondcoeff+1:i_constraintypes-1]\n",
    "bondcoeff = dict()\n",
    "for line in bondcoeffdata:\n",
    "    if line[0] is not ';':\n",
    "        word = line.split()\n",
    "        bondcoeff[word[0] + \" \" + word[1]] = [float(word[3]),float(word[4])]\n",
    "\n",
    "anglecoeffdata = ffbonded[i_anglecoeff+1:i_dihedralcoeff-1]\n",
    "anglecoeff = dict()\n",
    "for line in anglecoeffdata:\n",
    "    if line[0] not in illegalsign:\n",
    "        word = line.split()\n",
    "        anglecoeff[word[0] + \" \" + word[1] + \" \" + word[2]] \\\n",
    "            = [float(word[4]),float(word[5])]\n",
    "        \n",
    "dihedralcoeffdata = ffbonded[i_dihedralcoeff+1:]\n",
    "dihedralcoeff = dict()\n",
    "for line in dihedralcoeffdata:\n",
    "    if line[0] == \"[\":\n",
    "        break\n",
    "    if line[0] not in illegalsign:\n",
    "        \n",
    "        word = line.split()\n",
    "        dihedralcoeff[word[0] + \" \" + word[1] + \" \" + word[2] + \" \" + word[3]] \\\n",
    "            = [float(word[5]),float(word[6]),float(word[7]),float(word[8]),float(word[9])]"
   ]
  },
  {
   "cell_type": "code",
   "execution_count": null,
   "metadata": {},
   "outputs": [],
   "source": []
  },
  {
   "cell_type": "code",
   "execution_count": null,
   "metadata": {},
   "outputs": [],
   "source": []
  },
  {
   "cell_type": "code",
   "execution_count": null,
   "metadata": {},
   "outputs": [],
   "source": []
  },
  {
   "cell_type": "code",
   "execution_count": 46,
   "metadata": {
    "scrolled": true
   },
   "outputs": [],
   "source": [
    "from collections import defaultdict\n",
    "\n",
    "with open('topol.top') as file:\n",
    "    data = file.readlines()\n",
    "    \n",
    "i_atoms = data.index(\"[ atoms ]\\n\")\n",
    "i_bonds = data.index(\"[ bonds ]\\n\")\n",
    "i_angles = data.index(\"[ angles ]\\n\")\n",
    "i_dihedrals = data.index(\"[ dihedrals ]\\n\")\n",
    "i_impropers = data.index(\"[ impropers ]\\n\")\n",
    "\n",
    "atomdata = data[i_atoms+1:i_bonds-1]\n",
    "bonddata = data[i_bonds+1:i_angles-1]\n",
    "angleldata = data[i_angles+1:i_dihedrals-1]\n",
    "dihedraldata = data[i_dihedrals+1:i_impropers-1]\n",
    "\n",
    "atoms = dict()\n",
    "for line in atomdata:\n",
    "    word = line.split()\n",
    "#     atoms[word[0]] = word[1]  # use atom name (opls_xxx)\n",
    "    atoms[word[0]] = atomtypes[word[1]][0] # use bond_type name\n",
    "\n",
    "\n"
   ]
  },
  {
   "cell_type": "code",
   "execution_count": 69,
   "metadata": {},
   "outputs": [
    {
     "name": "stdout",
     "output_type": "stream",
     "text": [
      "Bond coeff\n",
      "bondtype#, bondtype, k[kJ mol-1 nm-2], b0[nm]\n",
      "1 0.109 284512.0 # HC CT\n",
      "2 0.1529 224262.4 # CT CT\n",
      "3 0.1522 265265.6 # CT C_2\n",
      "4 0.1229 476976.0 # C_2 O_2\n",
      "5 0.1327 179075.2 # C_2 OS\n",
      "6 0.141 267776.0 # OS CT\n"
     ]
    }
   ],
   "source": [
    "bondtype = defaultdict(tuple)\n",
    "c = 1 # c: type number\n",
    "for line in bonddata:\n",
    "    b = line.split()\n",
    "    if (atoms[b[1]], atoms[b[0]]) not in bondtype.values() and \\\n",
    "       (atoms[b[0]], atoms[b[1]]) not in bondtype.values():\n",
    "        bondtype[c] = (atoms[b[0]], atoms[b[1]])\n",
    "        c += 1\n",
    "\n",
    "# Gromacs format for bond:        \n",
    "# E = 1/2 * k * (r - b0)^2\n",
    "# k: kJ mol-1 nm-2\n",
    "# b0: nm\n",
    "# LAMMPS format for bond:\n",
    "# E = k * (r - b0)^2\n",
    "# k: kcal mol-1 A-2\n",
    "# b0: A\n",
    "# Here I use Gromacs's format\n",
    "print(\"Bond coeff\")\n",
    "print(\"bondtype#, bondtype, k[kJ mol-1 nm-2], b0[nm]\")\n",
    "for i in sorted(bondtype.keys()):\n",
    "    # look up bondcoeff\n",
    "    try:\n",
    "        [b0,kb] = bondcoeff[bondtype[i][0] + \" \" + bondtype[i][1]]\n",
    "    except KeyError:\n",
    "        [b0,kb] = bondcoeff[bondtype[i][1] + \" \" + bondtype[i][0]]\n",
    "    print(f\"{i} {b0} {kb} # {bondtype[i][0]} {bondtype[i][1]}\")"
   ]
  },
  {
   "cell_type": "code",
   "execution_count": 70,
   "metadata": {},
   "outputs": [
    {
     "name": "stdout",
     "output_type": "stream",
     "text": [
      "Angle coeff\n",
      "1 110.7 313.8 # HC CT CT \n",
      "2 107.8 276.144 # HC CT HC \n",
      "3 112.7 488.273 # CT CT CT \n",
      "4 109.5 292.88 # HC CT C_2 \n",
      "5 111.1 527.184 # CT CT C_2 \n",
      "6 111.4 677.808 # CT C_2 OS \n",
      "7 120.4 669.44 # CT C_2 O_2 \n",
      "8 123.4 694.544 # O_2 C_2 OS \n",
      "9 116.9 694.544 # C_2 OS CT \n",
      "10 109.5 292.88 # OS CT HC \n",
      "11 109.5 418.4 # OS CT CT \n"
     ]
    }
   ],
   "source": [
    "angletype = defaultdict(tuple)\n",
    "c = 1 # c: type number\n",
    "for line in angleldata:\n",
    "    b = line.split()\n",
    "    if (atoms[b[0]],atoms[b[1]],atoms[b[2]]) not in angletype.values() and \\\n",
    "       (atoms[b[2]],atoms[b[1]],atoms[b[0]]) not in angletype.values():\n",
    "        angletype[c] = (atoms[b[0]],atoms[b[1]],atoms[b[2]])\n",
    "        c += 1\n",
    "\n",
    "# Gromacs format for angle:\n",
    "# E = 1/2 * cth * (theta - th0)^2\n",
    "# cth: kJ mol-1 rad-2\n",
    "# th0: deg\n",
    "print(\"Angle coeff\")\n",
    "for i in sorted(angletype.keys()):\n",
    "    try:\n",
    "        [th0,cth] = anglecoeff[angletype[i][0] + \" \" + angletype[i][1] + \" \" + angletype[i][2]]\n",
    "    except KeyError:\n",
    "        [th0,cth] = anglecoeff[angletype[i][2] + \" \" + angletype[i][1] + \" \" + angletype[i][0]]  \n",
    "    print(f\"{i} {th0} {cth} # {angletype[i][0]} {angletype[i][1]} {angletype[i][2]} \")"
   ]
  },
  {
   "cell_type": "code",
   "execution_count": 85,
   "metadata": {},
   "outputs": [
    {
     "name": "stdout",
     "output_type": "stream",
     "text": [
      "Dihedral coeff\n",
      "1 0.62760 1.88280 0.00000 -2.51040 # HC CT CT HC\n",
      "2 0.62760 1.88280 0.00000 -2.51040 # HC CT CT CT\n",
      "3 2.92880 -1.46440 0.20920 -1.67360 # CT CT CT CT\n",
      "4 -4.23421 7.22159 1.90790 -4.89528 # CT CT CT C_2\n",
      "5 -0.15899 -0.47698 0.00000 0.63596 # HC CT CT C_2\n",
      "6 3.10662 -3.77606 -5.13795 5.80739 # CT CT C_2 O_2\n",
      "7 -1.15688 -3.47063 0.00000 4.62750 # CT CT C_2 OS\n",
      "8 0.00000 0.00000 0.00000 0.00000 # HC CT C_2 O_2\n",
      "9 0.27615 0.82844 0.00000 -1.10458 # HC CT C_2 OS\n",
      "10 31.20637 -9.76754 -21.43881 0.00000 # CT OS C_2 CT\n",
      "11 21.43881 0.00000 -21.43881 0.00000 # O_2 C_2 OS CT\n",
      "12 0.41421 1.24265 0.00000 -1.65686 # C_2 OS CT HC\n",
      "13 -2.19660 5.20071 0.52719 -3.53130 # C_2 OS CT CT\n",
      "14 2.87441 0.58158 2.09200 -5.54799 # OS CT CT CT\n"
     ]
    }
   ],
   "source": [
    "dihedraltype = defaultdict(tuple)\n",
    "c = 1 # c: type number\n",
    "for line in dihedraldata:\n",
    "    b = line.split()\n",
    "    di = (atoms[b[0]],atoms[b[1]],atoms[b[2]],atoms[b[3]])\n",
    "    if di not in dihedraltype.values() and di[::-1] not in dihedraltype.values():\n",
    "        dihedraltype[c] = (atoms[b[0]],atoms[b[1]],atoms[b[2]],atoms[b[3]])\n",
    "        c += 1\n",
    "\n",
    "print(\"Dihedral coeff\")\n",
    "for i in sorted(dihedraltype.keys()):\n",
    "    try:\n",
    "        [c0,c1,c2,c3,c4] = dihedralcoeff[dihedraltype[i][0] + \" \"\n",
    "                                 + dihedraltype[i][1] + \" \"\n",
    "                                 + dihedraltype[i][2] + \" \"\n",
    "                                 + dihedraltype[i][3]]\n",
    "    except KeyError:\n",
    "        [c0,c1,c2,c3,c4] = dihedralcoeff[dihedraltype[i][3] + \" \"\n",
    "                                 + dihedraltype[i][2] + \" \"\n",
    "                                 + dihedraltype[i][1] + \" \"\n",
    "                                 + dihedraltype[i][0]]\n",
    "    print(f\"{i} {c0:7.5f} {c1:7.5f} {c2:7.5f} {c3:7.5f} # {dihedraltype[i][0]} {dihedraltype[i][1]} {dihedraltype[i][2]} {dihedraltype[i][3]}\")"
   ]
  },
  {
   "cell_type": "code",
   "execution_count": 80,
   "metadata": {},
   "outputs": [
    {
     "data": {
      "text/plain": [
       "defaultdict(tuple,\n",
       "            {1: ('HC', 'CT', 'CT', 'HC'),\n",
       "             2: ('HC', 'CT', 'CT', 'CT'),\n",
       "             3: ('CT', 'CT', 'CT', 'CT'),\n",
       "             4: ('CT', 'CT', 'CT', 'C_2'),\n",
       "             5: ('HC', 'CT', 'CT', 'C_2'),\n",
       "             6: ('CT', 'CT', 'C_2', 'O_2'),\n",
       "             7: ('CT', 'CT', 'C_2', 'OS'),\n",
       "             8: ('HC', 'CT', 'C_2', 'O_2'),\n",
       "             9: ('HC', 'CT', 'C_2', 'OS'),\n",
       "             10: ('CT', 'OS', 'C_2', 'CT'),\n",
       "             11: ('O_2', 'C_2', 'OS', 'CT'),\n",
       "             12: ('C_2', 'OS', 'CT', 'HC'),\n",
       "             13: ('C_2', 'OS', 'CT', 'CT'),\n",
       "             14: ('OS', 'CT', 'CT', 'CT')})"
      ]
     },
     "execution_count": 80,
     "metadata": {},
     "output_type": "execute_result"
    }
   ],
   "source": [
    "dihedraltype"
   ]
  },
  {
   "cell_type": "code",
   "execution_count": 86,
   "metadata": {},
   "outputs": [
    {
     "data": {
      "text/plain": [
       "defaultdict(tuple,\n",
       "            {1: ('HC', 'CT', 'CT', 'HC'),\n",
       "             2: ('HC', 'CT', 'CT', 'CT'),\n",
       "             3: ('CT', 'CT', 'CT', 'CT'),\n",
       "             4: ('CT', 'CT', 'CT', 'C_2'),\n",
       "             5: ('HC', 'CT', 'CT', 'C_2'),\n",
       "             6: ('CT', 'CT', 'C_2', 'O_2'),\n",
       "             7: ('CT', 'CT', 'C_2', 'OS'),\n",
       "             8: ('HC', 'CT', 'C_2', 'O_2'),\n",
       "             9: ('HC', 'CT', 'C_2', 'OS'),\n",
       "             10: ('CT', 'OS', 'C_2', 'CT'),\n",
       "             11: ('O_2', 'C_2', 'OS', 'CT'),\n",
       "             12: ('C_2', 'OS', 'CT', 'HC'),\n",
       "             13: ('C_2', 'OS', 'CT', 'CT'),\n",
       "             14: ('OS', 'CT', 'CT', 'CT')})"
      ]
     },
     "execution_count": 86,
     "metadata": {},
     "output_type": "execute_result"
    }
   ],
   "source": [
    "dihedraltype"
   ]
  },
  {
   "cell_type": "code",
   "execution_count": null,
   "metadata": {},
   "outputs": [],
   "source": []
  }
 ],
 "metadata": {
  "kernelspec": {
   "display_name": "Python 3",
   "language": "python",
   "name": "python3"
  },
  "language_info": {
   "codemirror_mode": {
    "name": "ipython",
    "version": 3
   },
   "file_extension": ".py",
   "mimetype": "text/x-python",
   "name": "python",
   "nbconvert_exporter": "python",
   "pygments_lexer": "ipython3",
   "version": "3.7.3"
  }
 },
 "nbformat": 4,
 "nbformat_minor": 2
}
